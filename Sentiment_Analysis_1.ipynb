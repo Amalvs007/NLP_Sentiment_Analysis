{
 "cells": [
  {
   "cell_type": "code",
   "execution_count": 101,
   "metadata": {},
   "outputs": [],
   "source": [
    "import pandas as pd\n",
    "import numpy as np\n",
    "import nltk\n",
    "import re\n",
    "import matplotlib.pyplot as plt"
   ]
  },
  {
   "cell_type": "code",
   "execution_count": 82,
   "metadata": {},
   "outputs": [],
   "source": [
    "df = pd.read_csv(\"Restaurant_Reviews.tsv\",delimiter='\\t',quoting=3)\n",
    "\n",
    "# Delimter is given because, the file is in tsv format, and \\t is given to indicate tab button\n",
    "# quoting is given 3, as there may be space of upto 3 for the independent feature"
   ]
  },
  {
   "cell_type": "code",
   "execution_count": 83,
   "metadata": {},
   "outputs": [
    {
     "data": {
      "text/html": [
       "<div>\n",
       "<style scoped>\n",
       "    .dataframe tbody tr th:only-of-type {\n",
       "        vertical-align: middle;\n",
       "    }\n",
       "\n",
       "    .dataframe tbody tr th {\n",
       "        vertical-align: top;\n",
       "    }\n",
       "\n",
       "    .dataframe thead th {\n",
       "        text-align: right;\n",
       "    }\n",
       "</style>\n",
       "<table border=\"1\" class=\"dataframe\">\n",
       "  <thead>\n",
       "    <tr style=\"text-align: right;\">\n",
       "      <th></th>\n",
       "      <th>Review</th>\n",
       "      <th>Liked</th>\n",
       "    </tr>\n",
       "  </thead>\n",
       "  <tbody>\n",
       "    <tr>\n",
       "      <th>0</th>\n",
       "      <td>Wow... Loved this place.</td>\n",
       "      <td>1</td>\n",
       "    </tr>\n",
       "    <tr>\n",
       "      <th>1</th>\n",
       "      <td>Crust is not good.</td>\n",
       "      <td>0</td>\n",
       "    </tr>\n",
       "    <tr>\n",
       "      <th>2</th>\n",
       "      <td>Not tasty and the texture was just nasty.</td>\n",
       "      <td>0</td>\n",
       "    </tr>\n",
       "    <tr>\n",
       "      <th>3</th>\n",
       "      <td>Stopped by during the late May bank holiday of...</td>\n",
       "      <td>1</td>\n",
       "    </tr>\n",
       "    <tr>\n",
       "      <th>4</th>\n",
       "      <td>The selection on the menu was great and so wer...</td>\n",
       "      <td>1</td>\n",
       "    </tr>\n",
       "  </tbody>\n",
       "</table>\n",
       "</div>"
      ],
      "text/plain": [
       "                                              Review  Liked\n",
       "0                           Wow... Loved this place.      1\n",
       "1                                 Crust is not good.      0\n",
       "2          Not tasty and the texture was just nasty.      0\n",
       "3  Stopped by during the late May bank holiday of...      1\n",
       "4  The selection on the menu was great and so wer...      1"
      ]
     },
     "execution_count": 83,
     "metadata": {},
     "output_type": "execute_result"
    }
   ],
   "source": [
    "df.head()"
   ]
  },
  {
   "cell_type": "code",
   "execution_count": 63,
   "metadata": {},
   "outputs": [
    {
     "data": {
      "text/plain": [
       "(1000, 2)"
      ]
     },
     "execution_count": 63,
     "metadata": {},
     "output_type": "execute_result"
    }
   ],
   "source": [
    "df.shape"
   ]
  },
  {
   "cell_type": "code",
   "execution_count": 84,
   "metadata": {},
   "outputs": [],
   "source": [
    "stopwords_list = nltk.corpus.stopwords.words(\"english\") # stopwords list for english\n",
    "tokener = nltk.word_tokenize # to tokenize\n",
    "\n",
    "def remove_punch(text):\n",
    "    clean_words = re.sub(r\"[^a-zA-Z0-9]\",\" \",text.lower())\n",
    "    return clean_words\n",
    "\n",
    "df.Review = df.Review.apply(remove_punch)"
   ]
  },
  {
   "cell_type": "code",
   "execution_count": 85,
   "metadata": {},
   "outputs": [],
   "source": [
    "def remove_whitespace(text):\n",
    "    cleaned_space = re.sub(' +',\" \",text)\n",
    "    return cleaned_space\n",
    "df.Review = df.Review.apply(remove_whitespace)"
   ]
  },
  {
   "cell_type": "code",
   "execution_count": 86,
   "metadata": {},
   "outputs": [],
   "source": [
    "def remove_stopwords(text):\n",
    "    tok_word = tokener(text)\n",
    "    clean_words=[]\n",
    "    for word in tok_word:\n",
    "        if word in stopwords_list:\n",
    "            continue\n",
    "        else: \n",
    "            clean_words.append(word)\n",
    "    words = ' '.join(clean_words)\n",
    "    return words\n",
    "\n",
    "df.Review = df.Review.apply(remove_stopwords)"
   ]
  },
  {
   "cell_type": "code",
   "execution_count": 68,
   "metadata": {},
   "outputs": [],
   "source": [
    "def remove_digits(text):\n",
    "    clean_words = re.sub(r\"[^a-zA-Z]\",\" \",text.lower())\n",
    "    return clean_words\n",
    "\n",
    "df.Review = df.Review.apply(remove_digits)"
   ]
  },
  {
   "cell_type": "code",
   "execution_count": 69,
   "metadata": {},
   "outputs": [],
   "source": [
    "df.Review = df.Review.apply(remove_whitespace)"
   ]
  },
  {
   "cell_type": "code",
   "execution_count": 70,
   "metadata": {},
   "outputs": [],
   "source": [
    "lm=nltk.WordNetLemmatizer()\n",
    "\n",
    "def lemma(text):\n",
    "    tok_word = tokener(text)\n",
    "    lemma_word =[]\n",
    "    # print(\"token :\",tok_word)\n",
    "    for tok in tok_word:\n",
    "        lemma_tok = lm.lemmatize(tok)\n",
    "        lemma_word.append(lemma_tok)\n",
    "    # print(\"lemmatization :\",lemma_word)\n",
    "    final_text= \" \".join(lemma_word)\n",
    "    # print(\"Final text :\",final_text)\n",
    "    return final_text\n",
    "\n",
    "df.Review = df.Review.apply(lemma)"
   ]
  },
  {
   "cell_type": "code",
   "execution_count": 71,
   "metadata": {},
   "outputs": [
    {
     "data": {
      "text/plain": [
       "0                                        wow loved place\n",
       "1                                             crust good\n",
       "2                                    tasty texture nasty\n",
       "3      stopped late may bank holiday rick steve recom...\n",
       "4                             selection menu great price\n",
       "                             ...                        \n",
       "995                    think food flavor texture lacking\n",
       "996                              appetite instantly gone\n",
       "997                      overall impressed would go back\n",
       "998    whole experience underwhelming think go ninja ...\n",
       "999    wasted enough life poured salt wound drawing t...\n",
       "Name: Review, Length: 1000, dtype: object"
      ]
     },
     "execution_count": 71,
     "metadata": {},
     "output_type": "execute_result"
    }
   ],
   "source": [
    "df.Review"
   ]
  },
  {
   "cell_type": "markdown",
   "metadata": {},
   "source": [
    "# Word Cloud"
   ]
  },
  {
   "cell_type": "code",
   "execution_count": 87,
   "metadata": {},
   "outputs": [],
   "source": [
    "Positive_Review = df[df['Liked']==1]\n",
    "Negative_Review = df[df['Liked']==0]"
   ]
  },
  {
   "cell_type": "code",
   "execution_count": 89,
   "metadata": {},
   "outputs": [
    {
     "data": {
      "text/plain": [
       "0                                        wow loved place\n",
       "3      stopped late may bank holiday rick steve recom...\n",
       "4                            selection menu great prices\n",
       "8                                            fries great\n",
       "9                                            great touch\n",
       "                             ...                        \n",
       "899                             overall great experience\n",
       "901    regular toasted bread equally satisfying occas...\n",
       "907                                   chips sals amazing\n",
       "909                            new fav vegas buffet spot\n",
       "922    every time eat see caring teamwork professiona...\n",
       "Name: Review, Length: 500, dtype: object"
      ]
     },
     "execution_count": 89,
     "metadata": {},
     "output_type": "execute_result"
    }
   ],
   "source": [
    "Positive_Review.Review"
   ]
  },
  {
   "cell_type": "code",
   "execution_count": 91,
   "metadata": {},
   "outputs": [],
   "source": [
    "Positive_Text = ' '.join(Positive_Review.Review)\n",
    "Negative_Text = ' '.join(Negative_Review.Review)"
   ]
  },
  {
   "cell_type": "code",
   "execution_count": 95,
   "metadata": {},
   "outputs": [],
   "source": [
    "import wordcloud\n",
    "\n",
    "positive_review_cloud = wordcloud.WordCloud().generate_from_text(Positive_Text)\n",
    "negative_review_cloud = wordcloud.WordCloud().generate_from_text(Negative_Text)"
   ]
  },
  {
   "cell_type": "code",
   "execution_count": 102,
   "metadata": {},
   "outputs": [
    {
     "data": {
      "text/plain": [
       "<matplotlib.image.AxesImage at 0x7e243c40a0>"
      ]
     },
     "execution_count": 102,
     "metadata": {},
     "output_type": "execute_result"
    },
    {
     "data": {
      "image/png": "[encoded data removed]",
      "text/plain": [
       "<Figure size 1152x864 with 2 Axes>"
      ]
     },
     "metadata": {
      "needs_background": "light"
     },
     "output_type": "display_data"
    }
   ],
   "source": [
    "plt.figure(figsize=(16,12))\n",
    "plt.subplot(121)  # 1 Indicates axis 1 image, 2 Indicates 2 sub images, Last 1 indicates 1st image out of two.\n",
    "plt.title(\"Word cloud of Positive Reviews after pre-processing\")\n",
    "plt.imshow(positive_review_cloud)\n",
    "plt.subplot(122)\n",
    "plt.title(\"Word cloud of Negative Reviews after pre-processing\")\n",
    "plt.imshow(negative_review_cloud)"
   ]
  },
  {
   "cell_type": "markdown",
   "metadata": {},
   "source": [
    "# Bag Of Words"
   ]
  },
  {
   "cell_type": "code",
   "execution_count": 13,
   "metadata": {},
   "outputs": [],
   "source": [
    "from sklearn.feature_extraction.text import CountVectorizer\n",
    "cv = CountVectorizer(stop_words='english',max_features=2500,ngram_range=(1,2))\n",
    "scaled_X = cv.fit_transform(df.Review)"
   ]
  },
  {
   "cell_type": "code",
   "execution_count": 14,
   "metadata": {},
   "outputs": [
    {
     "name": "stderr",
     "output_type": "stream",
     "text": [
      "c:\\Users\\LAP\\anaconda3\\lib\\site-packages\\sklearn\\utils\\deprecation.py:87: FutureWarning: Function get_feature_names is deprecated; get_feature_names is deprecated in 1.0 and will be removed in 1.2. Please use get_feature_names_out instead.\n",
      "  warnings.warn(msg, category=FutureWarning)\n"
     ]
    },
    {
     "data": {
      "text/html": [
       "<div>\n",
       "<style scoped>\n",
       "    .dataframe tbody tr th:only-of-type {\n",
       "        vertical-align: middle;\n",
       "    }\n",
       "\n",
       "    .dataframe tbody tr th {\n",
       "        vertical-align: top;\n",
       "    }\n",
       "\n",
       "    .dataframe thead th {\n",
       "        text-align: right;\n",
       "    }\n",
       "</style>\n",
       "<table border=\"1\" class=\"dataframe\">\n",
       "  <thead>\n",
       "    <tr style=\"text-align: right;\">\n",
       "      <th></th>\n",
       "      <th>absolutely</th>\n",
       "      <th>absolutely amazing</th>\n",
       "      <th>acknowledged</th>\n",
       "      <th>actually</th>\n",
       "      <th>added</th>\n",
       "      <th>ago</th>\n",
       "      <th>amazing</th>\n",
       "      <th>ambiance</th>\n",
       "      <th>ambience</th>\n",
       "      <th>anytime</th>\n",
       "      <th>...</th>\n",
       "      <th>yukon gold</th>\n",
       "      <th>yum</th>\n",
       "      <th>yum sauce</th>\n",
       "      <th>yum yum</th>\n",
       "      <th>yummy</th>\n",
       "      <th>yummy christmas</th>\n",
       "      <th>yummy try</th>\n",
       "      <th>yummy tummy</th>\n",
       "      <th>zero</th>\n",
       "      <th>zero star</th>\n",
       "    </tr>\n",
       "  </thead>\n",
       "  <tbody>\n",
       "    <tr>\n",
       "      <th>0</th>\n",
       "      <td>0</td>\n",
       "      <td>0</td>\n",
       "      <td>0</td>\n",
       "      <td>0</td>\n",
       "      <td>0</td>\n",
       "      <td>0</td>\n",
       "      <td>0</td>\n",
       "      <td>0</td>\n",
       "      <td>0</td>\n",
       "      <td>0</td>\n",
       "      <td>...</td>\n",
       "      <td>0</td>\n",
       "      <td>0</td>\n",
       "      <td>0</td>\n",
       "      <td>0</td>\n",
       "      <td>0</td>\n",
       "      <td>0</td>\n",
       "      <td>0</td>\n",
       "      <td>0</td>\n",
       "      <td>0</td>\n",
       "      <td>0</td>\n",
       "    </tr>\n",
       "    <tr>\n",
       "      <th>1</th>\n",
       "      <td>0</td>\n",
       "      <td>0</td>\n",
       "      <td>0</td>\n",
       "      <td>0</td>\n",
       "      <td>0</td>\n",
       "      <td>0</td>\n",
       "      <td>0</td>\n",
       "      <td>0</td>\n",
       "      <td>0</td>\n",
       "      <td>0</td>\n",
       "      <td>...</td>\n",
       "      <td>0</td>\n",
       "      <td>0</td>\n",
       "      <td>0</td>\n",
       "      <td>0</td>\n",
       "      <td>0</td>\n",
       "      <td>0</td>\n",
       "      <td>0</td>\n",
       "      <td>0</td>\n",
       "      <td>0</td>\n",
       "      <td>0</td>\n",
       "    </tr>\n",
       "    <tr>\n",
       "      <th>2</th>\n",
       "      <td>0</td>\n",
       "      <td>0</td>\n",
       "      <td>0</td>\n",
       "      <td>0</td>\n",
       "      <td>0</td>\n",
       "      <td>0</td>\n",
       "      <td>0</td>\n",
       "      <td>0</td>\n",
       "      <td>0</td>\n",
       "      <td>0</td>\n",
       "      <td>...</td>\n",
       "      <td>0</td>\n",
       "      <td>0</td>\n",
       "      <td>0</td>\n",
       "      <td>0</td>\n",
       "      <td>0</td>\n",
       "      <td>0</td>\n",
       "      <td>0</td>\n",
       "      <td>0</td>\n",
       "      <td>0</td>\n",
       "      <td>0</td>\n",
       "    </tr>\n",
       "    <tr>\n",
       "      <th>3</th>\n",
       "      <td>0</td>\n",
       "      <td>0</td>\n",
       "      <td>0</td>\n",
       "      <td>0</td>\n",
       "      <td>0</td>\n",
       "      <td>0</td>\n",
       "      <td>0</td>\n",
       "      <td>0</td>\n",
       "      <td>0</td>\n",
       "      <td>0</td>\n",
       "      <td>...</td>\n",
       "      <td>0</td>\n",
       "      <td>0</td>\n",
       "      <td>0</td>\n",
       "      <td>0</td>\n",
       "      <td>0</td>\n",
       "      <td>0</td>\n",
       "      <td>0</td>\n",
       "      <td>0</td>\n",
       "      <td>0</td>\n",
       "      <td>0</td>\n",
       "    </tr>\n",
       "    <tr>\n",
       "      <th>4</th>\n",
       "      <td>0</td>\n",
       "      <td>0</td>\n",
       "      <td>0</td>\n",
       "      <td>0</td>\n",
       "      <td>0</td>\n",
       "      <td>0</td>\n",
       "      <td>0</td>\n",
       "      <td>0</td>\n",
       "      <td>0</td>\n",
       "      <td>0</td>\n",
       "      <td>...</td>\n",
       "      <td>0</td>\n",
       "      <td>0</td>\n",
       "      <td>0</td>\n",
       "      <td>0</td>\n",
       "      <td>0</td>\n",
       "      <td>0</td>\n",
       "      <td>0</td>\n",
       "      <td>0</td>\n",
       "      <td>0</td>\n",
       "      <td>0</td>\n",
       "    </tr>\n",
       "  </tbody>\n",
       "</table>\n",
       "<p>5 rows × 2500 columns</p>\n",
       "</div>"
      ],
      "text/plain": [
       "   absolutely  absolutely amazing  acknowledged  actually  added  ago  \\\n",
       "0           0                   0             0         0      0    0   \n",
       "1           0                   0             0         0      0    0   \n",
       "2           0                   0             0         0      0    0   \n",
       "3           0                   0             0         0      0    0   \n",
       "4           0                   0             0         0      0    0   \n",
       "\n",
       "   amazing  ambiance  ambience  anytime  ...  yukon gold  yum  yum sauce  \\\n",
       "0        0         0         0        0  ...           0    0          0   \n",
       "1        0         0         0        0  ...           0    0          0   \n",
       "2        0         0         0        0  ...           0    0          0   \n",
       "3        0         0         0        0  ...           0    0          0   \n",
       "4        0         0         0        0  ...           0    0          0   \n",
       "\n",
       "   yum yum  yummy  yummy christmas  yummy try  yummy tummy  zero  zero star  \n",
       "0        0      0                0          0            0     0          0  \n",
       "1        0      0                0          0            0     0          0  \n",
       "2        0      0                0          0            0     0          0  \n",
       "3        0      0                0          0            0     0          0  \n",
       "4        0      0                0          0            0     0          0  \n",
       "\n",
       "[5 rows x 2500 columns]"
      ]
     },
     "execution_count": 14,
     "metadata": {},
     "output_type": "execute_result"
    }
   ],
   "source": [
    "df_bow_sklearn = pd.DataFrame(scaled_X.toarray(),columns=cv.get_feature_names())\n",
    "df_bow_sklearn.head()"
   ]
  },
  {
   "cell_type": "code",
   "execution_count": 16,
   "metadata": {},
   "outputs": [],
   "source": [
    "# train Test split\n",
    "\n",
    "from sklearn.model_selection import train_test_split\n",
    "X_train,X_test,y_train,y_test = train_test_split(df_bow_sklearn,df['Liked'],test_size=0.3,random_state=42)"
   ]
  },
  {
   "cell_type": "code",
   "execution_count": 17,
   "metadata": {},
   "outputs": [
    {
     "data": {
      "text/plain": [
       "RandomForestClassifier()"
      ]
     },
     "execution_count": 17,
     "metadata": {},
     "output_type": "execute_result"
    }
   ],
   "source": [
    "from sklearn.ensemble import RandomForestClassifier\n",
    "clf = RandomForestClassifier()\n",
    "clf.fit(X_train, y_train)"
   ]
  },
  {
   "cell_type": "code",
   "execution_count": 18,
   "metadata": {},
   "outputs": [
    {
     "data": {
      "text/plain": [
       "0.9971428571428571"
      ]
     },
     "execution_count": 18,
     "metadata": {},
     "output_type": "execute_result"
    }
   ],
   "source": [
    "clf.score(X_train, y_train)"
   ]
  },
  {
   "cell_type": "code",
   "execution_count": 21,
   "metadata": {},
   "outputs": [
    {
     "data": {
      "text/plain": [
       "0.7366666666666667"
      ]
     },
     "execution_count": 21,
     "metadata": {},
     "output_type": "execute_result"
    }
   ],
   "source": [
    "clf.score(X_test,y_test)"
   ]
  },
  {
   "cell_type": "markdown",
   "metadata": {},
   "source": [
    "# TF-IDF"
   ]
  },
  {
   "cell_type": "code",
   "execution_count": 72,
   "metadata": {},
   "outputs": [],
   "source": [
    "from sklearn.feature_extraction.text import TfidfVectorizer\n",
    "tf_idf = TfidfVectorizer(ngram_range=(1,3),max_features=2500)\n",
    "scaled_X_tf =  tf_idf.fit_transform(df.Review)"
   ]
  },
  {
   "cell_type": "code",
   "execution_count": 73,
   "metadata": {},
   "outputs": [
    {
     "name": "stderr",
     "output_type": "stream",
     "text": [
      "c:\\Users\\LAP\\anaconda3\\lib\\site-packages\\sklearn\\utils\\deprecation.py:87: FutureWarning: Function get_feature_names is deprecated; get_feature_names is deprecated in 1.0 and will be removed in 1.2. Please use get_feature_names_out instead.\n",
      "  warnings.warn(msg, category=FutureWarning)\n"
     ]
    },
    {
     "data": {
      "text/html": [
       "<div>\n",
       "<style scoped>\n",
       "    .dataframe tbody tr th:only-of-type {\n",
       "        vertical-align: middle;\n",
       "    }\n",
       "\n",
       "    .dataframe tbody tr th {\n",
       "        vertical-align: top;\n",
       "    }\n",
       "\n",
       "    .dataframe thead th {\n",
       "        text-align: right;\n",
       "    }\n",
       "</style>\n",
       "<table border=\"1\" class=\"dataframe\">\n",
       "  <thead>\n",
       "    <tr style=\"text-align: right;\">\n",
       "      <th></th>\n",
       "      <th>absolutely</th>\n",
       "      <th>absolutely amazing</th>\n",
       "      <th>acknowledged</th>\n",
       "      <th>actually</th>\n",
       "      <th>added</th>\n",
       "      <th>ago</th>\n",
       "      <th>almost</th>\n",
       "      <th>also</th>\n",
       "      <th>also taste</th>\n",
       "      <th>although</th>\n",
       "      <th>...</th>\n",
       "      <th>wow</th>\n",
       "      <th>wrap</th>\n",
       "      <th>wrong</th>\n",
       "      <th>year</th>\n",
       "      <th>year ago</th>\n",
       "      <th>yet</th>\n",
       "      <th>yum</th>\n",
       "      <th>yummy</th>\n",
       "      <th>zero</th>\n",
       "      <th>zero star</th>\n",
       "    </tr>\n",
       "  </thead>\n",
       "  <tbody>\n",
       "    <tr>\n",
       "      <th>0</th>\n",
       "      <td>0.0</td>\n",
       "      <td>0.0</td>\n",
       "      <td>0.0</td>\n",
       "      <td>0.0</td>\n",
       "      <td>0.0</td>\n",
       "      <td>0.0</td>\n",
       "      <td>0.0</td>\n",
       "      <td>0.0</td>\n",
       "      <td>0.0</td>\n",
       "      <td>0.0</td>\n",
       "      <td>...</td>\n",
       "      <td>0.572716</td>\n",
       "      <td>0.0</td>\n",
       "      <td>0.0</td>\n",
       "      <td>0.0</td>\n",
       "      <td>0.0</td>\n",
       "      <td>0.0</td>\n",
       "      <td>0.0</td>\n",
       "      <td>0.0</td>\n",
       "      <td>0.0</td>\n",
       "      <td>0.0</td>\n",
       "    </tr>\n",
       "    <tr>\n",
       "      <th>1</th>\n",
       "      <td>0.0</td>\n",
       "      <td>0.0</td>\n",
       "      <td>0.0</td>\n",
       "      <td>0.0</td>\n",
       "      <td>0.0</td>\n",
       "      <td>0.0</td>\n",
       "      <td>0.0</td>\n",
       "      <td>0.0</td>\n",
       "      <td>0.0</td>\n",
       "      <td>0.0</td>\n",
       "      <td>...</td>\n",
       "      <td>0.000000</td>\n",
       "      <td>0.0</td>\n",
       "      <td>0.0</td>\n",
       "      <td>0.0</td>\n",
       "      <td>0.0</td>\n",
       "      <td>0.0</td>\n",
       "      <td>0.0</td>\n",
       "      <td>0.0</td>\n",
       "      <td>0.0</td>\n",
       "      <td>0.0</td>\n",
       "    </tr>\n",
       "    <tr>\n",
       "      <th>2</th>\n",
       "      <td>0.0</td>\n",
       "      <td>0.0</td>\n",
       "      <td>0.0</td>\n",
       "      <td>0.0</td>\n",
       "      <td>0.0</td>\n",
       "      <td>0.0</td>\n",
       "      <td>0.0</td>\n",
       "      <td>0.0</td>\n",
       "      <td>0.0</td>\n",
       "      <td>0.0</td>\n",
       "      <td>...</td>\n",
       "      <td>0.000000</td>\n",
       "      <td>0.0</td>\n",
       "      <td>0.0</td>\n",
       "      <td>0.0</td>\n",
       "      <td>0.0</td>\n",
       "      <td>0.0</td>\n",
       "      <td>0.0</td>\n",
       "      <td>0.0</td>\n",
       "      <td>0.0</td>\n",
       "      <td>0.0</td>\n",
       "    </tr>\n",
       "    <tr>\n",
       "      <th>3</th>\n",
       "      <td>0.0</td>\n",
       "      <td>0.0</td>\n",
       "      <td>0.0</td>\n",
       "      <td>0.0</td>\n",
       "      <td>0.0</td>\n",
       "      <td>0.0</td>\n",
       "      <td>0.0</td>\n",
       "      <td>0.0</td>\n",
       "      <td>0.0</td>\n",
       "      <td>0.0</td>\n",
       "      <td>...</td>\n",
       "      <td>0.000000</td>\n",
       "      <td>0.0</td>\n",
       "      <td>0.0</td>\n",
       "      <td>0.0</td>\n",
       "      <td>0.0</td>\n",
       "      <td>0.0</td>\n",
       "      <td>0.0</td>\n",
       "      <td>0.0</td>\n",
       "      <td>0.0</td>\n",
       "      <td>0.0</td>\n",
       "    </tr>\n",
       "    <tr>\n",
       "      <th>4</th>\n",
       "      <td>0.0</td>\n",
       "      <td>0.0</td>\n",
       "      <td>0.0</td>\n",
       "      <td>0.0</td>\n",
       "      <td>0.0</td>\n",
       "      <td>0.0</td>\n",
       "      <td>0.0</td>\n",
       "      <td>0.0</td>\n",
       "      <td>0.0</td>\n",
       "      <td>0.0</td>\n",
       "      <td>...</td>\n",
       "      <td>0.000000</td>\n",
       "      <td>0.0</td>\n",
       "      <td>0.0</td>\n",
       "      <td>0.0</td>\n",
       "      <td>0.0</td>\n",
       "      <td>0.0</td>\n",
       "      <td>0.0</td>\n",
       "      <td>0.0</td>\n",
       "      <td>0.0</td>\n",
       "      <td>0.0</td>\n",
       "    </tr>\n",
       "  </tbody>\n",
       "</table>\n",
       "<p>5 rows × 2500 columns</p>\n",
       "</div>"
      ],
      "text/plain": [
       "   absolutely  absolutely amazing  acknowledged  actually  added  ago  almost  \\\n",
       "0         0.0                 0.0           0.0       0.0    0.0  0.0     0.0   \n",
       "1         0.0                 0.0           0.0       0.0    0.0  0.0     0.0   \n",
       "2         0.0                 0.0           0.0       0.0    0.0  0.0     0.0   \n",
       "3         0.0                 0.0           0.0       0.0    0.0  0.0     0.0   \n",
       "4         0.0                 0.0           0.0       0.0    0.0  0.0     0.0   \n",
       "\n",
       "   also  also taste  although  ...       wow  wrap  wrong  year  year ago  \\\n",
       "0   0.0         0.0       0.0  ...  0.572716   0.0    0.0   0.0       0.0   \n",
       "1   0.0         0.0       0.0  ...  0.000000   0.0    0.0   0.0       0.0   \n",
       "2   0.0         0.0       0.0  ...  0.000000   0.0    0.0   0.0       0.0   \n",
       "3   0.0         0.0       0.0  ...  0.000000   0.0    0.0   0.0       0.0   \n",
       "4   0.0         0.0       0.0  ...  0.000000   0.0    0.0   0.0       0.0   \n",
       "\n",
       "   yet  yum  yummy  zero  zero star  \n",
       "0  0.0  0.0    0.0   0.0        0.0  \n",
       "1  0.0  0.0    0.0   0.0        0.0  \n",
       "2  0.0  0.0    0.0   0.0        0.0  \n",
       "3  0.0  0.0    0.0   0.0        0.0  \n",
       "4  0.0  0.0    0.0   0.0        0.0  \n",
       "\n",
       "[5 rows x 2500 columns]"
      ]
     },
     "execution_count": 73,
     "metadata": {},
     "output_type": "execute_result"
    }
   ],
   "source": [
    "df_tfidf_sklearn = pd.DataFrame(scaled_X_tf.toarray(),columns=tf_idf.get_feature_names())\n",
    "df_tfidf_sklearn.head()"
   ]
  },
  {
   "cell_type": "code",
   "execution_count": 74,
   "metadata": {},
   "outputs": [],
   "source": [
    "# train Test split\n",
    "\n",
    "from sklearn.model_selection import train_test_split\n",
    "X_train,X_test,y_train,y_test = train_test_split(df_tfidf_sklearn,df['Liked'],test_size=0.3,random_state=42)"
   ]
  },
  {
   "cell_type": "code",
   "execution_count": 75,
   "metadata": {},
   "outputs": [
    {
     "data": {
      "text/plain": [
       "RandomForestClassifier()"
      ]
     },
     "execution_count": 75,
     "metadata": {},
     "output_type": "execute_result"
    }
   ],
   "source": [
    "from sklearn.ensemble import RandomForestClassifier\n",
    "clf_tfidf = RandomForestClassifier()\n",
    "clf_tfidf.fit(X_train, y_train)"
   ]
  },
  {
   "cell_type": "code",
   "execution_count": 76,
   "metadata": {},
   "outputs": [
    {
     "data": {
      "text/plain": [
       "0.9957142857142857"
      ]
     },
     "execution_count": 76,
     "metadata": {},
     "output_type": "execute_result"
    }
   ],
   "source": [
    "clf_tfidf.score(X_train,y_train)"
   ]
  },
  {
   "cell_type": "code",
   "execution_count": 79,
   "metadata": {},
   "outputs": [
    {
     "data": {
      "text/plain": [
       "0.7366666666666667"
      ]
     },
     "execution_count": 79,
     "metadata": {},
     "output_type": "execute_result"
    }
   ],
   "source": [
    "clf_tfidf.score(X_test,y_test)"
   ]
  },
  {
   "cell_type": "code",
   "execution_count": null,
   "metadata": {},
   "outputs": [],
   "source": [
    "# This is not a Good model, So we have to change algorithms and Try BOW, Word2Vec to find an optimal model."
   ]
  },
  {
   "cell_type": "markdown",
   "metadata": {},
   "source": [
    "# Word2Vec"
   ]
  },
  {
   "cell_type": "code",
   "execution_count": 22,
   "metadata": {},
   "outputs": [
    {
     "data": {
      "text/html": [
       "<div>\n",
       "<style scoped>\n",
       "    .dataframe tbody tr th:only-of-type {\n",
       "        vertical-align: middle;\n",
       "    }\n",
       "\n",
       "    .dataframe tbody tr th {\n",
       "        vertical-align: top;\n",
       "    }\n",
       "\n",
       "    .dataframe thead th {\n",
       "        text-align: right;\n",
       "    }\n",
       "</style>\n",
       "<table border=\"1\" class=\"dataframe\">\n",
       "  <thead>\n",
       "    <tr style=\"text-align: right;\">\n",
       "      <th></th>\n",
       "      <th>Review</th>\n",
       "      <th>Liked</th>\n",
       "    </tr>\n",
       "  </thead>\n",
       "  <tbody>\n",
       "    <tr>\n",
       "      <th>0</th>\n",
       "      <td>wow loved place</td>\n",
       "      <td>1</td>\n",
       "    </tr>\n",
       "    <tr>\n",
       "      <th>1</th>\n",
       "      <td>crust good</td>\n",
       "      <td>0</td>\n",
       "    </tr>\n",
       "    <tr>\n",
       "      <th>2</th>\n",
       "      <td>tasty texture nasty</td>\n",
       "      <td>0</td>\n",
       "    </tr>\n",
       "    <tr>\n",
       "      <th>3</th>\n",
       "      <td>stopped late may bank holiday rick steve recom...</td>\n",
       "      <td>1</td>\n",
       "    </tr>\n",
       "    <tr>\n",
       "      <th>4</th>\n",
       "      <td>selection menu great price</td>\n",
       "      <td>1</td>\n",
       "    </tr>\n",
       "  </tbody>\n",
       "</table>\n",
       "</div>"
      ],
      "text/plain": [
       "                                              Review  Liked\n",
       "0                                    wow loved place      1\n",
       "1                                         crust good      0\n",
       "2                                tasty texture nasty      0\n",
       "3  stopped late may bank holiday rick steve recom...      1\n",
       "4                         selection menu great price      1"
      ]
     },
     "execution_count": 22,
     "metadata": {},
     "output_type": "execute_result"
    }
   ],
   "source": [
    "df.head()"
   ]
  },
  {
   "cell_type": "code",
   "execution_count": 23,
   "metadata": {},
   "outputs": [],
   "source": [
    "from nltk import sent_tokenize\n",
    "from gensim.utils import simple_preprocess\n",
    "Likedlist=[]\n",
    "words=[]\n",
    "for sent,classVal in zip(df['Review'],df['Liked']):\n",
    "    sent_token = sent_tokenize(sent)\n",
    "    \n",
    "    for sent in sent_token:\n",
    "        words.append(simple_preprocess(sent))\n",
    "        Likedlist.append(classVal)"
   ]
  },
  {
   "cell_type": "code",
   "execution_count": 24,
   "metadata": {},
   "outputs": [
    {
     "data": {
      "text/plain": [
       "[['wow', 'loved', 'place'],\n",
       " ['crust', 'good'],\n",
       " ['tasty', 'texture', 'nasty'],\n",
       " ['stopped',\n",
       "  'late',\n",
       "  'may',\n",
       "  'bank',\n",
       "  'holiday',\n",
       "  'rick',\n",
       "  'steve',\n",
       "  'recommendation',\n",
       "  'loved'],\n",
       " ['selection', 'menu', 'great', 'price']]"
      ]
     },
     "execution_count": 24,
     "metadata": {},
     "output_type": "execute_result"
    }
   ],
   "source": [
    "words[:5]"
   ]
  },
  {
   "cell_type": "code",
   "execution_count": 25,
   "metadata": {},
   "outputs": [],
   "source": [
    "import gensim\n",
    "model = gensim.models.Word2Vec(words,window=5,min_count=2)"
   ]
  },
  {
   "cell_type": "code",
   "execution_count": 26,
   "metadata": {},
   "outputs": [
    {
     "data": {
      "text/plain": [
       "999"
      ]
     },
     "execution_count": 26,
     "metadata": {},
     "output_type": "execute_result"
    }
   ],
   "source": [
    "len(words)"
   ]
  },
  {
   "cell_type": "code",
   "execution_count": 27,
   "metadata": {},
   "outputs": [
    {
     "data": {
      "text/plain": [
       "999"
      ]
     },
     "execution_count": 27,
     "metadata": {},
     "output_type": "execute_result"
    }
   ],
   "source": [
    "model.corpus_count"
   ]
  },
  {
   "cell_type": "code",
   "execution_count": 28,
   "metadata": {},
   "outputs": [
    {
     "data": {
      "text/plain": [
       "(1000, 2)"
      ]
     },
     "execution_count": 28,
     "metadata": {},
     "output_type": "execute_result"
    }
   ],
   "source": [
    "df.shape"
   ]
  },
  {
   "cell_type": "code",
   "execution_count": 30,
   "metadata": {},
   "outputs": [
    {
     "data": {
      "text/plain": [
       "5"
      ]
     },
     "execution_count": 30,
     "metadata": {},
     "output_type": "execute_result"
    }
   ],
   "source": [
    "model.epochs"
   ]
  },
  {
   "cell_type": "code",
   "execution_count": 37,
   "metadata": {},
   "outputs": [
    {
     "data": {
      "text/plain": [
       "[('back', 0.3845595419406891),\n",
       " ('time', 0.33410200476646423),\n",
       " ('marrow', 0.3312015235424042),\n",
       " ('sushi', 0.3224453926086426),\n",
       " ('hard', 0.31739863753318787),\n",
       " ('fresh', 0.30319875478744507),\n",
       " ('helpful', 0.29591843485832214),\n",
       " ('large', 0.28696826100349426),\n",
       " ('come', 0.2849105894565582),\n",
       " ('business', 0.2816283106803894)]"
      ]
     },
     "execution_count": 37,
     "metadata": {},
     "output_type": "execute_result"
    }
   ],
   "source": [
    "model.wv.similar_by_word('awesome')"
   ]
  },
  {
   "cell_type": "code",
   "execution_count": 43,
   "metadata": {},
   "outputs": [
    {
     "data": {
      "text/plain": [
       "array([ 0.00529727,  0.00769893,  0.00628539, -0.00898781,  0.00957766,\n",
       "       -0.01017011,  0.00157377,  0.0031498 ,  0.0060269 , -0.00959012,\n",
       "        0.00253102, -0.0082913 , -0.0006484 ,  0.00767678, -0.00910792,\n",
       "        0.00892218, -0.00895864,  0.00547283, -0.00883693, -0.00945564,\n",
       "       -0.00735013,  0.00694274, -0.00232812,  0.00051718, -0.00983112,\n",
       "        0.01049926,  0.00159915, -0.00577218, -0.00408705,  0.00846872,\n",
       "        0.00466761, -0.00872245,  0.00363395, -0.00620781,  0.00074668,\n",
       "        0.01024718, -0.00182758, -0.00120486,  0.00535393, -0.00892584,\n",
       "        0.00401931,  0.00250527, -0.00957745, -0.00393563,  0.00949857,\n",
       "        0.00178198,  0.00801852, -0.00188226,  0.00949022, -0.00755614,\n",
       "        0.0057406 , -0.01017378,  0.00268608,  0.00836832, -0.00329994,\n",
       "        0.0079078 , -0.00864951, -0.00120241,  0.00230475, -0.00506001,\n",
       "        0.00762528, -0.00691621, -0.00147559,  0.00830534,  0.00561127,\n",
       "        0.0013678 ,  0.01066961, -0.0079003 , -0.00528354,  0.00432714,\n",
       "       -0.00360713,  0.00581438,  0.00926595, -0.00415154, -0.00061864,\n",
       "        0.01015545, -0.00621581, -0.00942099, -0.00176905, -0.00685172,\n",
       "        0.00027427,  0.00212466, -0.00928585,  0.00141322, -0.00493023,\n",
       "       -0.0027683 ,  0.00239607,  0.00577912, -0.00132169,  0.00824178,\n",
       "        0.00232889,  0.00835965,  0.00325156,  0.00522081,  0.01256299,\n",
       "       -0.00203999,  0.0007706 , -0.00529166,  0.00491432, -0.00712766],\n",
       "      dtype=float32)"
      ]
     },
     "execution_count": 43,
     "metadata": {},
     "output_type": "execute_result"
    }
   ],
   "source": [
    "model.wv['tasty']"
   ]
  },
  {
   "cell_type": "code",
   "execution_count": 44,
   "metadata": {},
   "outputs": [],
   "source": [
    "def avg_word2vec(doc):\n",
    "    val=[model.wv[word] for word in doc if word in model.wv.index_to_key]\n",
    "    if len(val) !=0:\n",
    "        outResult = np.mean([model.wv[word] for word in doc if word in model.wv.index_to_key],axis=0)\n",
    "    else:\n",
    "        outResult=np.asarray([])\n",
    "    return outResult"
   ]
  },
  {
   "cell_type": "code",
   "execution_count": 45,
   "metadata": {},
   "outputs": [],
   "source": [
    "X=[]\n",
    "for i in  range(len(words)):\n",
    "    X.append(avg_word2vec(words[i]))"
   ]
  },
  {
   "cell_type": "code",
   "execution_count": 46,
   "metadata": {},
   "outputs": [],
   "source": [
    "X = [arr.tolist() for arr in X]"
   ]
  },
  {
   "cell_type": "code",
   "execution_count": 49,
   "metadata": {},
   "outputs": [],
   "source": [
    "Final_X=[]\n",
    "labels_y=[]\n",
    "for X_val,classVal in zip(X,Likedlist):\n",
    "    if len(X_val)!=0:\n",
    "        Final_X.append(X_val)\n",
    "        labels_y.append(classVal)"
   ]
  },
  {
   "cell_type": "code",
   "execution_count": 50,
   "metadata": {},
   "outputs": [
    {
     "data": {
      "text/plain": [
       "989"
      ]
     },
     "execution_count": 50,
     "metadata": {},
     "output_type": "execute_result"
    }
   ],
   "source": [
    "len(Final_X)"
   ]
  },
  {
   "cell_type": "code",
   "execution_count": 52,
   "metadata": {},
   "outputs": [],
   "source": [
    "df = pd.DataFrame(Final_X)\n",
    "df[100]=labels_y"
   ]
  },
  {
   "cell_type": "code",
   "execution_count": 53,
   "metadata": {},
   "outputs": [
    {
     "data": {
      "text/html": [
       "<div>\n",
       "<style scoped>\n",
       "    .dataframe tbody tr th:only-of-type {\n",
       "        vertical-align: middle;\n",
       "    }\n",
       "\n",
       "    .dataframe tbody tr th {\n",
       "        vertical-align: top;\n",
       "    }\n",
       "\n",
       "    .dataframe thead th {\n",
       "        text-align: right;\n",
       "    }\n",
       "</style>\n",
       "<table border=\"1\" class=\"dataframe\">\n",
       "  <thead>\n",
       "    <tr style=\"text-align: right;\">\n",
       "      <th></th>\n",
       "      <th>0</th>\n",
       "      <th>1</th>\n",
       "      <th>2</th>\n",
       "      <th>3</th>\n",
       "      <th>4</th>\n",
       "      <th>5</th>\n",
       "      <th>6</th>\n",
       "      <th>7</th>\n",
       "      <th>8</th>\n",
       "      <th>9</th>\n",
       "      <th>...</th>\n",
       "      <th>91</th>\n",
       "      <th>92</th>\n",
       "      <th>93</th>\n",
       "      <th>94</th>\n",
       "      <th>95</th>\n",
       "      <th>96</th>\n",
       "      <th>97</th>\n",
       "      <th>98</th>\n",
       "      <th>99</th>\n",
       "      <th>100</th>\n",
       "    </tr>\n",
       "  </thead>\n",
       "  <tbody>\n",
       "    <tr>\n",
       "      <th>0</th>\n",
       "      <td>0.001425</td>\n",
       "      <td>0.002644</td>\n",
       "      <td>-0.000765</td>\n",
       "      <td>-0.001008</td>\n",
       "      <td>0.003258</td>\n",
       "      <td>-0.003499</td>\n",
       "      <td>0.001383</td>\n",
       "      <td>0.007707</td>\n",
       "      <td>-0.002320</td>\n",
       "      <td>-0.004093</td>\n",
       "      <td>...</td>\n",
       "      <td>0.004076</td>\n",
       "      <td>0.002285</td>\n",
       "      <td>-0.002258</td>\n",
       "      <td>-0.000221</td>\n",
       "      <td>0.004474</td>\n",
       "      <td>-0.000931</td>\n",
       "      <td>-0.003723</td>\n",
       "      <td>-0.001635</td>\n",
       "      <td>0.002110</td>\n",
       "      <td>1</td>\n",
       "    </tr>\n",
       "    <tr>\n",
       "      <th>1</th>\n",
       "      <td>0.001888</td>\n",
       "      <td>-0.000364</td>\n",
       "      <td>-0.003375</td>\n",
       "      <td>0.003168</td>\n",
       "      <td>0.006507</td>\n",
       "      <td>-0.002094</td>\n",
       "      <td>0.000518</td>\n",
       "      <td>0.000396</td>\n",
       "      <td>-0.009814</td>\n",
       "      <td>-0.001613</td>\n",
       "      <td>...</td>\n",
       "      <td>0.001842</td>\n",
       "      <td>0.005394</td>\n",
       "      <td>-0.000775</td>\n",
       "      <td>0.003368</td>\n",
       "      <td>0.006574</td>\n",
       "      <td>0.005909</td>\n",
       "      <td>-0.005608</td>\n",
       "      <td>0.002940</td>\n",
       "      <td>-0.002318</td>\n",
       "      <td>0</td>\n",
       "    </tr>\n",
       "    <tr>\n",
       "      <th>2</th>\n",
       "      <td>0.001255</td>\n",
       "      <td>0.005117</td>\n",
       "      <td>0.000387</td>\n",
       "      <td>-0.000594</td>\n",
       "      <td>0.002967</td>\n",
       "      <td>-0.008735</td>\n",
       "      <td>-0.000245</td>\n",
       "      <td>0.006235</td>\n",
       "      <td>0.003920</td>\n",
       "      <td>-0.007457</td>\n",
       "      <td>...</td>\n",
       "      <td>-0.001421</td>\n",
       "      <td>0.002396</td>\n",
       "      <td>0.002167</td>\n",
       "      <td>0.002124</td>\n",
       "      <td>0.000011</td>\n",
       "      <td>-0.001230</td>\n",
       "      <td>-0.006800</td>\n",
       "      <td>0.008175</td>\n",
       "      <td>-0.002048</td>\n",
       "      <td>0</td>\n",
       "    </tr>\n",
       "    <tr>\n",
       "      <th>3</th>\n",
       "      <td>0.002331</td>\n",
       "      <td>-0.000258</td>\n",
       "      <td>0.000515</td>\n",
       "      <td>-0.005063</td>\n",
       "      <td>-0.002539</td>\n",
       "      <td>-0.002335</td>\n",
       "      <td>0.005799</td>\n",
       "      <td>0.004147</td>\n",
       "      <td>-0.002254</td>\n",
       "      <td>-0.001403</td>\n",
       "      <td>...</td>\n",
       "      <td>-0.004029</td>\n",
       "      <td>0.004755</td>\n",
       "      <td>-0.003985</td>\n",
       "      <td>0.000535</td>\n",
       "      <td>0.002645</td>\n",
       "      <td>-0.000314</td>\n",
       "      <td>-0.004423</td>\n",
       "      <td>0.001916</td>\n",
       "      <td>-0.001654</td>\n",
       "      <td>1</td>\n",
       "    </tr>\n",
       "    <tr>\n",
       "      <th>4</th>\n",
       "      <td>-0.003413</td>\n",
       "      <td>0.001692</td>\n",
       "      <td>-0.002582</td>\n",
       "      <td>0.003460</td>\n",
       "      <td>0.005464</td>\n",
       "      <td>-0.001798</td>\n",
       "      <td>0.001375</td>\n",
       "      <td>0.009303</td>\n",
       "      <td>-0.001691</td>\n",
       "      <td>0.001581</td>\n",
       "      <td>...</td>\n",
       "      <td>-0.000807</td>\n",
       "      <td>0.001907</td>\n",
       "      <td>0.002587</td>\n",
       "      <td>0.004508</td>\n",
       "      <td>0.004431</td>\n",
       "      <td>-0.000218</td>\n",
       "      <td>0.000367</td>\n",
       "      <td>0.005911</td>\n",
       "      <td>-0.004352</td>\n",
       "      <td>1</td>\n",
       "    </tr>\n",
       "    <tr>\n",
       "      <th>...</th>\n",
       "      <td>...</td>\n",
       "      <td>...</td>\n",
       "      <td>...</td>\n",
       "      <td>...</td>\n",
       "      <td>...</td>\n",
       "      <td>...</td>\n",
       "      <td>...</td>\n",
       "      <td>...</td>\n",
       "      <td>...</td>\n",
       "      <td>...</td>\n",
       "      <td>...</td>\n",
       "      <td>...</td>\n",
       "      <td>...</td>\n",
       "      <td>...</td>\n",
       "      <td>...</td>\n",
       "      <td>...</td>\n",
       "      <td>...</td>\n",
       "      <td>...</td>\n",
       "      <td>...</td>\n",
       "      <td>...</td>\n",
       "      <td>...</td>\n",
       "    </tr>\n",
       "    <tr>\n",
       "      <th>984</th>\n",
       "      <td>0.000105</td>\n",
       "      <td>0.001138</td>\n",
       "      <td>0.002630</td>\n",
       "      <td>0.004316</td>\n",
       "      <td>-0.004162</td>\n",
       "      <td>-0.006288</td>\n",
       "      <td>-0.000757</td>\n",
       "      <td>0.006233</td>\n",
       "      <td>-0.002647</td>\n",
       "      <td>-0.001799</td>\n",
       "      <td>...</td>\n",
       "      <td>-0.002860</td>\n",
       "      <td>-0.001078</td>\n",
       "      <td>0.004822</td>\n",
       "      <td>0.001573</td>\n",
       "      <td>0.005884</td>\n",
       "      <td>-0.007056</td>\n",
       "      <td>-0.002508</td>\n",
       "      <td>0.000223</td>\n",
       "      <td>-0.000675</td>\n",
       "      <td>0</td>\n",
       "    </tr>\n",
       "    <tr>\n",
       "      <th>985</th>\n",
       "      <td>-0.007587</td>\n",
       "      <td>-0.001836</td>\n",
       "      <td>0.004703</td>\n",
       "      <td>-0.002593</td>\n",
       "      <td>-0.001353</td>\n",
       "      <td>-0.003740</td>\n",
       "      <td>0.003368</td>\n",
       "      <td>0.007305</td>\n",
       "      <td>0.005894</td>\n",
       "      <td>-0.003091</td>\n",
       "      <td>...</td>\n",
       "      <td>0.004691</td>\n",
       "      <td>-0.000067</td>\n",
       "      <td>-0.004625</td>\n",
       "      <td>-0.006710</td>\n",
       "      <td>0.000898</td>\n",
       "      <td>0.004768</td>\n",
       "      <td>0.005857</td>\n",
       "      <td>-0.005489</td>\n",
       "      <td>-0.009843</td>\n",
       "      <td>0</td>\n",
       "    </tr>\n",
       "    <tr>\n",
       "      <th>986</th>\n",
       "      <td>-0.002468</td>\n",
       "      <td>0.005061</td>\n",
       "      <td>0.002711</td>\n",
       "      <td>-0.001463</td>\n",
       "      <td>0.000150</td>\n",
       "      <td>-0.003522</td>\n",
       "      <td>0.003242</td>\n",
       "      <td>0.005208</td>\n",
       "      <td>-0.002666</td>\n",
       "      <td>-0.001731</td>\n",
       "      <td>...</td>\n",
       "      <td>0.000431</td>\n",
       "      <td>-0.002391</td>\n",
       "      <td>-0.001628</td>\n",
       "      <td>0.006613</td>\n",
       "      <td>0.003496</td>\n",
       "      <td>-0.000337</td>\n",
       "      <td>-0.003863</td>\n",
       "      <td>0.001805</td>\n",
       "      <td>-0.005976</td>\n",
       "      <td>0</td>\n",
       "    </tr>\n",
       "    <tr>\n",
       "      <th>987</th>\n",
       "      <td>-0.003395</td>\n",
       "      <td>0.002752</td>\n",
       "      <td>0.002544</td>\n",
       "      <td>0.002359</td>\n",
       "      <td>0.000800</td>\n",
       "      <td>-0.001685</td>\n",
       "      <td>0.000017</td>\n",
       "      <td>0.001771</td>\n",
       "      <td>-0.002711</td>\n",
       "      <td>0.002259</td>\n",
       "      <td>...</td>\n",
       "      <td>0.001328</td>\n",
       "      <td>-0.000529</td>\n",
       "      <td>0.000218</td>\n",
       "      <td>0.005317</td>\n",
       "      <td>0.005460</td>\n",
       "      <td>0.002588</td>\n",
       "      <td>-0.000962</td>\n",
       "      <td>0.003110</td>\n",
       "      <td>-0.001590</td>\n",
       "      <td>0</td>\n",
       "    </tr>\n",
       "    <tr>\n",
       "      <th>988</th>\n",
       "      <td>0.003210</td>\n",
       "      <td>0.001873</td>\n",
       "      <td>-0.004028</td>\n",
       "      <td>0.003223</td>\n",
       "      <td>0.002959</td>\n",
       "      <td>-0.005457</td>\n",
       "      <td>0.005899</td>\n",
       "      <td>0.005167</td>\n",
       "      <td>-0.000644</td>\n",
       "      <td>0.000763</td>\n",
       "      <td>...</td>\n",
       "      <td>0.003153</td>\n",
       "      <td>0.000654</td>\n",
       "      <td>0.002642</td>\n",
       "      <td>0.003157</td>\n",
       "      <td>0.001742</td>\n",
       "      <td>0.000162</td>\n",
       "      <td>-0.004226</td>\n",
       "      <td>0.001590</td>\n",
       "      <td>0.000860</td>\n",
       "      <td>0</td>\n",
       "    </tr>\n",
       "  </tbody>\n",
       "</table>\n",
       "<p>989 rows × 101 columns</p>\n",
       "</div>"
      ],
      "text/plain": [
       "          0         1         2         3         4         5         6    \\\n",
       "0    0.001425  0.002644 -0.000765 -0.001008  0.003258 -0.003499  0.001383   \n",
       "1    0.001888 -0.000364 -0.003375  0.003168  0.006507 -0.002094  0.000518   \n",
       "2    0.001255  0.005117  0.000387 -0.000594  0.002967 -0.008735 -0.000245   \n",
       "3    0.002331 -0.000258  0.000515 -0.005063 -0.002539 -0.002335  0.005799   \n",
       "4   -0.003413  0.001692 -0.002582  0.003460  0.005464 -0.001798  0.001375   \n",
       "..        ...       ...       ...       ...       ...       ...       ...   \n",
       "984  0.000105  0.001138  0.002630  0.004316 -0.004162 -0.006288 -0.000757   \n",
       "985 -0.007587 -0.001836  0.004703 -0.002593 -0.001353 -0.003740  0.003368   \n",
       "986 -0.002468  0.005061  0.002711 -0.001463  0.000150 -0.003522  0.003242   \n",
       "987 -0.003395  0.002752  0.002544  0.002359  0.000800 -0.001685  0.000017   \n",
       "988  0.003210  0.001873 -0.004028  0.003223  0.002959 -0.005457  0.005899   \n",
       "\n",
       "          7         8         9    ...       91        92        93   \\\n",
       "0    0.007707 -0.002320 -0.004093  ...  0.004076  0.002285 -0.002258   \n",
       "1    0.000396 -0.009814 -0.001613  ...  0.001842  0.005394 -0.000775   \n",
       "2    0.006235  0.003920 -0.007457  ... -0.001421  0.002396  0.002167   \n",
       "3    0.004147 -0.002254 -0.001403  ... -0.004029  0.004755 -0.003985   \n",
       "4    0.009303 -0.001691  0.001581  ... -0.000807  0.001907  0.002587   \n",
       "..        ...       ...       ...  ...       ...       ...       ...   \n",
       "984  0.006233 -0.002647 -0.001799  ... -0.002860 -0.001078  0.004822   \n",
       "985  0.007305  0.005894 -0.003091  ...  0.004691 -0.000067 -0.004625   \n",
       "986  0.005208 -0.002666 -0.001731  ...  0.000431 -0.002391 -0.001628   \n",
       "987  0.001771 -0.002711  0.002259  ...  0.001328 -0.000529  0.000218   \n",
       "988  0.005167 -0.000644  0.000763  ...  0.003153  0.000654  0.002642   \n",
       "\n",
       "          94        95        96        97        98        99   100  \n",
       "0   -0.000221  0.004474 -0.000931 -0.003723 -0.001635  0.002110    1  \n",
       "1    0.003368  0.006574  0.005909 -0.005608  0.002940 -0.002318    0  \n",
       "2    0.002124  0.000011 -0.001230 -0.006800  0.008175 -0.002048    0  \n",
       "3    0.000535  0.002645 -0.000314 -0.004423  0.001916 -0.001654    1  \n",
       "4    0.004508  0.004431 -0.000218  0.000367  0.005911 -0.004352    1  \n",
       "..        ...       ...       ...       ...       ...       ...  ...  \n",
       "984  0.001573  0.005884 -0.007056 -0.002508  0.000223 -0.000675    0  \n",
       "985 -0.006710  0.000898  0.004768  0.005857 -0.005489 -0.009843    0  \n",
       "986  0.006613  0.003496 -0.000337 -0.003863  0.001805 -0.005976    0  \n",
       "987  0.005317  0.005460  0.002588 -0.000962  0.003110 -0.001590    0  \n",
       "988  0.003157  0.001742  0.000162 -0.004226  0.001590  0.000860    0  \n",
       "\n",
       "[989 rows x 101 columns]"
      ]
     },
     "execution_count": 53,
     "metadata": {},
     "output_type": "execute_result"
    }
   ],
   "source": [
    "df"
   ]
  },
  {
   "cell_type": "code",
   "execution_count": 54,
   "metadata": {},
   "outputs": [],
   "source": [
    "# train Test split\n",
    "\n",
    "X_cleaned = df.drop([100],axis=1)\n",
    "y_cleaned=df[100]\n",
    "\n",
    "from sklearn.model_selection import train_test_split\n",
    "X_train,X_test,y_train,y_test = train_test_split(X_cleaned,y_cleaned,test_size=0.3,random_state=42)"
   ]
  },
  {
   "cell_type": "code",
   "execution_count": 55,
   "metadata": {},
   "outputs": [
    {
     "data": {
      "text/plain": [
       "RandomForestClassifier()"
      ]
     },
     "execution_count": 55,
     "metadata": {},
     "output_type": "execute_result"
    }
   ],
   "source": [
    "from sklearn.ensemble import RandomForestClassifier\n",
    "clf_word2vec = RandomForestClassifier()\n",
    "clf_word2vec.fit(X_train, y_train)"
   ]
  },
  {
   "cell_type": "code",
   "execution_count": 57,
   "metadata": {},
   "outputs": [
    {
     "data": {
      "text/plain": [
       "0.9956647398843931"
      ]
     },
     "execution_count": 57,
     "metadata": {},
     "output_type": "execute_result"
    }
   ],
   "source": [
    "clf_word2vec.score(X_train,y_train)"
   ]
  },
  {
   "cell_type": "code",
   "execution_count": 58,
   "metadata": {},
   "outputs": [
    {
     "data": {
      "text/plain": [
       "0.6666666666666666"
      ]
     },
     "execution_count": 58,
     "metadata": {},
     "output_type": "execute_result"
    }
   ],
   "source": [
    "clf_word2vec.score(X_test,y_test)"
   ]
  },
  {
   "cell_type": "markdown",
   "metadata": {},
   "source": [
    "# Sentiment Analysis"
   ]
  },
  {
   "cell_type": "code",
   "execution_count": 80,
   "metadata": {},
   "outputs": [],
   "source": [
    "def predict_statement(sample_review):\n",
    "    text = remove_punch(sample_review)\n",
    "    text = remove_whitespace(text)\n",
    "    text = remove_stopwords(text)\n",
    "    text = remove_digits(text)\n",
    "    text = remove_whitespace(text)\n",
    "    text = lemma(text)\n",
    "    temp = tf_idf.transform([text]).toarray()\n",
    "    out = clf_tfidf.predict(temp)\n",
    "    print(out[0])\n",
    "    return out[0]"
   ]
  },
  {
   "cell_type": "code",
   "execution_count": 81,
   "metadata": {},
   "outputs": [
    {
     "name": "stdout",
     "output_type": "stream",
     "text": [
      "0\n",
      "This is a NEGATIVE Review...\n"
     ]
    },
    {
     "name": "stderr",
     "output_type": "stream",
     "text": [
      "c:\\Users\\LAP\\anaconda3\\lib\\site-packages\\sklearn\\base.py:450: UserWarning: X does not have valid feature names, but RandomForestClassifier was fitted with feature names\n",
      "  warnings.warn(\n"
     ]
    }
   ],
   "source": [
    "sample_review = 'Food was pretty bad and the service was very slow.'\n",
    "\n",
    "if predict_statement(sample_review):\n",
    "    print(\"This is a POSITIVE Review...\")\n",
    "else:\n",
    "    print(\"This is a NEGATIVE Review...\")"
   ]
  },
  {
   "cell_type": "code",
   "execution_count": null,
   "metadata": {},
   "outputs": [],
   "source": []
  }
 ],
 "metadata": {
  "kernelspec": {
   "display_name": "Python 3.9.12 ('base')",
   "language": "python",
   "name": "python3"
  },
  "language_info": {
   "codemirror_mode": {
    "name": "ipython",
    "version": 3
   },
   "file_extension": ".py",
   "mimetype": "text/x-python",
   "name": "python",
   "nbconvert_exporter": "python",
   "pygments_lexer": "ipython3",
   "version": "3.9.12"
  },
  "orig_nbformat": 4,
  "vscode": {
   "interpreter": {
    "hash": "2a25ba668f13fcf467d88183e7645e19b46906129a42fe71d135f5c2beab900c"
   }
  }
 },
 "nbformat": 4,
 "nbformat_minor": 2
}
